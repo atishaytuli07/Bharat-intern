{
 "cells": [
  {
   "cell_type": "code",
   "execution_count": null,
   "id": "15dd7f4e-6a26-45fa-8035-90590cde6660",
   "metadata": {},
   "outputs": [],
   "source": [
    "import numpy as np\n",
    "import pandas as pd\n",
    "import matplotlib.pyplot as plt\n",
    "import seaborn as sns"
   ]
  },
  {
   "cell_type": "code",
   "execution_count": null,
   "id": "f80e1190-9aa2-41ba-99d8-ace3b24cab58",
   "metadata": {},
   "outputs": [],
   "source": [
    "def wine_quality_prediction():\n",
    "    # Read the CSV data into a Pandas DataFrame\n",
    "    wine = pd.read_csv(input(\"Enter the name of the input data file: \"))\n",
    "\n",
    "    # Add a column called \"good_quality\" that indicates whether the wine has a quality of 6 or higher\n",
    "    wine[\"good_quality\"] = [1 if x >= 6 else 0 for x in wine[\"quality\"]]\n",
    "\n",
    "    # Drop the \"quality\" and \"good_quality\" columns\n",
    "    X = wine.drop([\"quality\", \"good_quality\"], axis=1)\n",
    "    Y = wine[\"good_quality\"]\n",
    "\n",
    "    # Split the data into train and test sets\n",
    "    X_train, X_test, Y_train, Y_test = train_test_split(X, Y)\n",
    "\n",
    "    # Create a logistic regression model\n",
    "    model = LogisticRegression()\n",
    "\n",
    "    # Fit the model to the training data\n",
    "    model.fit(X_train, Y_train)\n",
    "\n",
    "    # Make predictions on the test data\n",
    "    Y_pred = model.predict(X_test)\n",
    "\n",
    "    # Calculate the accuracy score\n",
    "    accuracy = accuracy_score(Y_test, Y_pred)\n",
    "    print(\"Accuracy:\", accuracy)\n",
    "\n",
    "    # Print the confusion matrix\n",
    "    confusion_matrix = confusion_matrix(Y_test, Y_pred)\n",
    "    print(confusion_matrix)\n",
    "\n",
    "\n",
    "if __name__ == '__main__':\n",
    "    wine_quality_prediction()"
   ]
  }
 ],
 "metadata": {
  "kernelspec": {
   "display_name": "Python 3 (ipykernel)",
   "language": "python",
   "name": "python3"
  },
  "language_info": {
   "codemirror_mode": {
    "name": "ipython",
    "version": 3
   },
   "file_extension": ".py",
   "mimetype": "text/x-python",
   "name": "python",
   "nbconvert_exporter": "python",
   "pygments_lexer": "ipython3",
   "version": "3.9.2"
  }
 },
 "nbformat": 4,
 "nbformat_minor": 5
}
