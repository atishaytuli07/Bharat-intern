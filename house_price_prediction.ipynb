{
 "cells": [
  {
   "cell_type": "code",
   "execution_count": null,
   "id": "8a647eee-5d41-4ed5-afad-2e4f56fbca65",
   "metadata": {},
   "outputs": [],
   "source": [
    "# Importing all the necessary libraries\n",
    "import numpy as np\n",
    "import pandas as pd\n",
    "import seaborn as sns\n",
    "import matplotlib.pyplot as plt\n",
    "from sklearn.linear_model import LinearRegression\n",
    "from sklearn import metrics"
   ]
  },
  {
   "cell_type": "code",
   "execution_count": null,
   "id": "a441d37a-fc1d-446a-a6a4-d3287ca2f1c3",
   "metadata": {},
   "outputs": [],
   "source": [
    "def house_price_prediction():\n",
    "    # Read the CSV data into a Pandas DataFrame\n",
    "    data = pd.read_csv('Housing.csv')\n",
    "\n",
    "    # Get the input features and target variable\n",
    "    features = data[['Avg. Area Income', 'Avg. Area House Age', 'Avg. Area Number of Rooms',\n",
    "                    'Avg. Area Number of Bedrooms', 'Area Population']]\n",
    "    target = data['Price']\n",
    "\n",
    "    # Split the data into train and test sets\n",
    "    a_train, a_test, b_train, b_test = train_test_split(features, target, test_size=0.4, random_state=101)\n",
    "\n",
    "    # Create a linear regression model\n",
    "    lr = LinearRegression()\n",
    "\n",
    "    # Train the model on the train data\n",
    "    lr.fit(a_train, b_train)\n",
    "\n",
    "    # Print the intercept and coefficients of the model\n",
    "    print('Intercept:', lr.intercept_)\n",
    "    coeff_df = pd.DataFrame(lr.coef_, features.columns, columns=['Coefficient'])\n",
    "    print(coeff_df)\n",
    "\n",
    "    # Make predictions on the test data\n",
    "    predictions = lr.predict(a_test)\n",
    "\n",
    "    # Plot the predictions vs the actual values\n",
    "    plt.scatter(b_test, predictions)\n",
    "    plt.show()\n",
    "\n",
    "    # Plot the distribution of the residuals\n",
    "    sns.displot((b_test - predictions), bins=50, color=\"green\")\n",
    "    plt.show()\n",
    "\n",
    "    # Calculate the evaluation metrics\n",
    "    print('MAE:', metrics.mean_absolute_error(b_test, predictions))\n",
    "    print('MSE:', metrics.mean_squared_error(b_test, predictions))\n",
    "    print('RMSE:', np.sqrt(metrics.mean_squared_error(b_test, predictions)))\n",
    "\n",
    "\n",
    "if __name__ == '__main__':\n",
    "    house_price_prediction()"
   ]
  },
  {
   "cell_type": "code",
   "execution_count": null,
   "id": "157dd1d7-df9b-4712-bf6b-8c7e7185ec33",
   "metadata": {},
   "outputs": [],
   "source": []
  },
  {
   "cell_type": "code",
   "execution_count": null,
   "id": "be6406a6-8cb9-46c0-a049-c3ff711b9c4d",
   "metadata": {},
   "outputs": [],
   "source": []
  },
  {
   "cell_type": "code",
   "execution_count": null,
   "id": "86560c80-0b8d-41fe-8762-3ca5c8a0f5de",
   "metadata": {},
   "outputs": [],
   "source": []
  }
 ],
 "metadata": {
  "kernelspec": {
   "display_name": "Python 3 (ipykernel)",
   "language": "python",
   "name": "python3"
  },
  "language_info": {
   "codemirror_mode": {
    "name": "ipython",
    "version": 3
   },
   "file_extension": ".py",
   "mimetype": "text/x-python",
   "name": "python",
   "nbconvert_exporter": "python",
   "pygments_lexer": "ipython3",
   "version": "3.9.2"
  }
 },
 "nbformat": 4,
 "nbformat_minor": 5
}
